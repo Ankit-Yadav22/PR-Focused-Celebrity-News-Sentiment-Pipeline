{
 "cells": [
  {
   "cell_type": "code",
   "execution_count": 0,
   "metadata": {
    "application/vnd.databricks.v1+cell": {
     "cellMetadata": {},
     "inputWidgets": {},
     "nuid": "ce988388-fce0-4838-bfa6-de0cfb6f13dd",
     "showTitle": false,
     "tableResultSettingsMap": {},
     "title": ""
    }
   },
   "outputs": [],
   "source": [
    "import requests\n",
    "import pandas as pd\n",
    "from datetime import datetime, timedelta\n",
    "from textblob import TextBlob\n",
    "\n",
    "#API_KEY = sys.argv[1]\n",
    "#print(API_KEY)\n",
    "dbutils.widgets.text(\"API_KEY\", \"\")\n",
    "API_KEY = dbutils.widgets.get(\"API_KEY\")\n",
    "celebrities = [\"Virat Kohli\", \"MS Dhoni\"]\n",
    "results = []\n",
    "\n",
    "# Calculate date range: from 15 days ago to today\n",
    "end_date = datetime.utcnow().date()\n",
    "start_date = end_date - timedelta(days=15)\n",
    "\n",
    "# Format as YYYY-MM-DD\n",
    "from_date = start_date.strftime('%Y-%m-%d')\n",
    "to_date = end_date.strftime('%Y-%m-%d')\n",
    "\n",
    "for celeb in celebrities:\n",
    "    url = (\n",
    "        \"https://newsapi.org/v2/everything?\"\n",
    "        f\"q=\\\"{celeb}\\\"&\"\n",
    "        f\"from={from_date}&\"\n",
    "        f\"to={to_date}&\"\n",
    "        \"language=en&\"\n",
    "        \"sortBy=publishedAt&\"\n",
    "        \"pageSize=100&\"  # Max allowed per page\n",
    "        f\"apiKey={API_KEY}\"\n",
    "    )\n",
    "    response = requests.get(url)\n",
    "    articles = response.json().get(\"articles\", [])\n",
    "    \n",
    "    for article in articles:\n",
    "        results.append({\n",
    "            \"date\": article.get(\"publishedAt\", \"\")[:10],\n",
    "            \"celebrity\": celeb,\n",
    "            \"headline\": article.get(\"title\", \"\"),\n",
    "            \"source\": article.get(\"source\", {}).get(\"name\", \"\"),\n",
    "            \"url\": article.get(\"url\", \"\")\n",
    "        })\n",
    "\n",
    "df = pd.DataFrame(results)\n",
    "display(df)  # For Databricks notebooks\n",
    "\n",
    "\n",
    "\n",
    "def get_sentiment(text):\n",
    "    polarity = TextBlob(text).sentiment.polarity\n",
    "    if polarity > 0.1:\n",
    "        return \"Good\"\n",
    "    elif polarity < -0.1:\n",
    "        return \"Bad\"\n",
    "    else:\n",
    "        return \"Neutral\"\n",
    "\n",
    "df['sentiment'] = df['headline'].apply(get_sentiment)\n",
    "display(df)\n",
    "\n",
    "# Group by celebrity and sentiment to count occurrences\n",
    "sentiment_counts = df.groupby(['celebrity', 'sentiment']).size().reset_index(name='count')\n",
    "\n",
    "# Total headline count per celebrity\n",
    "total_counts = sentiment_counts.groupby('celebrity')['count'].transform('sum')\n",
    "\n",
    "# Calculate percentage for each sentiment per celebrity\n",
    "sentiment_counts['percentage'] = 100 * sentiment_counts['count'] / total_counts\n",
    "\n",
    "# Optional: Sort for better readability\n",
    "sentiment_counts = sentiment_counts.sort_values(['celebrity', 'sentiment']).reset_index(drop=True)\n",
    "\n",
    "display(sentiment_counts)\n",
    "\n"
   ]
  }
 ],
 "metadata": {
  "application/vnd.databricks.v1+notebook": {
   "computePreferences": null,
   "dashboards": [],
   "environmentMetadata": {
    "base_environment": "",
    "environment_version": "2"
   },
   "inputWidgetPreferences": null,
   "language": "python",
   "notebookMetadata": {
    "pythonIndentUnit": 4
   },
   "notebookName": "main",
   "widgets": {}
  },
  "language_info": {
   "name": "python"
  }
 },
 "nbformat": 4,
 "nbformat_minor": 0
}
